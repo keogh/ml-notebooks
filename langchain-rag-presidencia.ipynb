{
 "cells": [
  {
   "metadata": {},
   "cell_type": "markdown",
   "source": "# Build a Retrieval-Augmented Generation (RAG) using LangChain and OpenAI API",
   "id": "3c8cceee4f9bb154"
  },
  {
   "metadata": {},
   "cell_type": "markdown",
   "source": "https://python.langchain.com/docs/tutorials/rag/",
   "id": "1a0933d52d6ba80f"
  },
  {
   "metadata": {},
   "cell_type": "markdown",
   "source": "Install dependencies",
   "id": "6199a1752f8d79c6"
  },
  {
   "cell_type": "code",
   "id": "initial_id",
   "metadata": {
    "collapsed": true,
    "ExecuteTime": {
     "end_time": "2024-10-28T20:36:07.964535Z",
     "start_time": "2024-10-28T20:36:06.367750Z"
    }
   },
   "source": "%pip install --quiet --upgrade langchain langchain-community langchain-chroma",
   "outputs": [
    {
     "name": "stdout",
     "output_type": "stream",
     "text": [
      "Note: you may need to restart the kernel to use updated packages.\n"
     ]
    }
   ],
   "execution_count": 24
  },
  {
   "metadata": {
    "ExecuteTime": {
     "end_time": "2024-10-28T20:36:09.281792Z",
     "start_time": "2024-10-28T20:36:08.041573Z"
    }
   },
   "cell_type": "code",
   "source": "%pip install -qU langchain-openai",
   "id": "5d185d9fa7a4abd5",
   "outputs": [
    {
     "name": "stdout",
     "output_type": "stream",
     "text": [
      "Note: you may need to restart the kernel to use updated packages.\n"
     ]
    }
   ],
   "execution_count": 25
  },
  {
   "metadata": {
    "ExecuteTime": {
     "end_time": "2024-10-28T20:36:09.592967Z",
     "start_time": "2024-10-28T20:36:09.348947Z"
    }
   },
   "cell_type": "code",
   "source": "%pip -qU install python-magic unstructured",
   "id": "48ba4368e8f81529",
   "outputs": [
    {
     "name": "stdout",
     "output_type": "stream",
     "text": [
      "\r\n",
      "Usage:   \r\n",
      "  /Users/isaaczepeda/projects/ML/notebooks/venv/bin/python -m pip <command> [options]\r\n",
      "\r\n",
      "no such option: -U\r\n",
      "Note: you may need to restart the kernel to use updated packages.\n"
     ]
    }
   ],
   "execution_count": 26
  },
  {
   "metadata": {
    "ExecuteTime": {
     "end_time": "2024-10-28T20:36:11.634662Z",
     "start_time": "2024-10-28T20:36:11.571331Z"
    }
   },
   "cell_type": "code",
   "source": [
    "import getpass\n",
    "import os\n",
    "\n",
    "os.environ[\"OPENAI_API_KEY\"] = getpass.getpass()\n",
    "\n",
    "from langchain_openai import ChatOpenAI\n",
    "\n",
    "llm = ChatOpenAI(model=\"gpt-4o-mini\")"
   ],
   "id": "bf69aea07bc112e1",
   "outputs": [],
   "execution_count": 27
  },
  {
   "metadata": {
    "ExecuteTime": {
     "end_time": "2024-10-28T20:36:12.687085Z",
     "start_time": "2024-10-28T20:36:12.682116Z"
    }
   },
   "cell_type": "code",
   "source": [
    "import bs4\n",
    "from langchain import hub\n",
    "from langchain_chroma import Chroma\n",
    "from langchain_community.document_loaders import DirectoryLoader\n",
    "from langchain_core.output_parsers import StrOutputParser\n",
    "from langchain_core.runnables import RunnablePassthrough\n",
    "from langchain_openai import OpenAIEmbeddings\n",
    "from langchain_text_splitters import RecursiveCharacterTextSplitter\n"
   ],
   "id": "a49af0834f0ea11a",
   "outputs": [],
   "execution_count": 28
  },
  {
   "metadata": {
    "ExecuteTime": {
     "end_time": "2024-10-28T20:41:44.805853Z",
     "start_time": "2024-10-28T20:36:13.413205Z"
    }
   },
   "cell_type": "code",
   "source": [
    "loader = DirectoryLoader(\"./data/\", glob=\"**/*.txt\")\n",
    "docs = loader.load()\n",
    "len(docs)"
   ],
   "id": "7f830e863ce0dfcf",
   "outputs": [
    {
     "data": {
      "text/plain": [
       "33"
      ]
     },
     "execution_count": 29,
     "metadata": {},
     "output_type": "execute_result"
    }
   ],
   "execution_count": 29
  },
  {
   "metadata": {
    "ExecuteTime": {
     "end_time": "2024-10-28T22:45:02.684930Z",
     "start_time": "2024-10-28T22:44:44.019940Z"
    }
   },
   "cell_type": "code",
   "source": [
    "text_splitter = RecursiveCharacterTextSplitter(chunk_size=1000, chunk_overlap=200)\n",
    "splits = text_splitter.split_documents(docs)\n",
    "vectorstore = Chroma.from_documents(documents=splits, embedding=OpenAIEmbeddings())"
   ],
   "id": "a3c5d9e27efb6349",
   "outputs": [],
   "execution_count": 30
  },
  {
   "metadata": {
    "ExecuteTime": {
     "end_time": "2024-10-28T22:45:03.433266Z",
     "start_time": "2024-10-28T22:45:02.717090Z"
    }
   },
   "cell_type": "code",
   "source": [
    "# Retrieve and generate using the relevant snippets of the blog.\n",
    "retriever = vectorstore.as_retriever()\n",
    "prompt = hub.pull(\"rlm/rag-prompt\")"
   ],
   "id": "89b5791d558b821c",
   "outputs": [
    {
     "name": "stderr",
     "output_type": "stream",
     "text": [
      "/Users/isaaczepeda/projects/ML/notebooks/venv/lib/python3.9/site-packages/langsmith/client.py:354: LangSmithMissingAPIKeyWarning: API key must be provided when using hosted LangSmith API\n",
      "  warnings.warn(\n"
     ]
    }
   ],
   "execution_count": 31
  },
  {
   "metadata": {
    "ExecuteTime": {
     "end_time": "2024-10-28T22:45:07.901628Z",
     "start_time": "2024-10-28T22:45:07.897238Z"
    }
   },
   "cell_type": "code",
   "source": [
    "def format_docs(docs):\n",
    "    return \"\\n\\n\".join(doc.page_content for doc in docs)"
   ],
   "id": "70aad958b282d566",
   "outputs": [],
   "execution_count": 32
  },
  {
   "metadata": {
    "ExecuteTime": {
     "end_time": "2024-10-28T22:45:09.523373Z",
     "start_time": "2024-10-28T22:45:09.507453Z"
    }
   },
   "cell_type": "code",
   "source": [
    "rag_chain = (\n",
    "        {\"context\": retriever | format_docs, \"question\": RunnablePassthrough()}\n",
    "        | prompt\n",
    "        | llm\n",
    "        | StrOutputParser()\n",
    ")\n"
   ],
   "id": "fecbb0d75556ac62",
   "outputs": [],
   "execution_count": 33
  },
  {
   "metadata": {
    "ExecuteTime": {
     "end_time": "2024-10-28T22:51:05.489569Z",
     "start_time": "2024-10-28T22:51:04.010816Z"
    }
   },
   "cell_type": "code",
   "source": "rag_chain.invoke(\"como se asegura la justicia con la elección de jueces?\")",
   "id": "cbfe08a6ebbd16d7",
   "outputs": [
    {
     "data": {
      "text/plain": [
       "'La justicia se asegura con la elección de jueces a través de un proceso abierto, transparente y público, donde la ciudadanía decide quiénes ocuparán estos cargos. Esta reforma permitirá que se elijan no solo jueces, sino también magistrados y ministros, promoviendo la probidad y el cumplimiento de requisitos específicos. Al involucrar al pueblo en la selección, se espera mejorar el Estado de derecho en el país.'"
      ]
     },
     "execution_count": 39,
     "metadata": {},
     "output_type": "execute_result"
    }
   ],
   "execution_count": 39
  },
  {
   "metadata": {},
   "cell_type": "code",
   "outputs": [],
   "execution_count": null,
   "source": "",
   "id": "15b6bd4e67305847"
  }
 ],
 "metadata": {
  "kernelspec": {
   "display_name": "Python 3",
   "language": "python",
   "name": "python3"
  },
  "language_info": {
   "codemirror_mode": {
    "name": "ipython",
    "version": 2
   },
   "file_extension": ".py",
   "mimetype": "text/x-python",
   "name": "python",
   "nbconvert_exporter": "python",
   "pygments_lexer": "ipython2",
   "version": "2.7.6"
  }
 },
 "nbformat": 4,
 "nbformat_minor": 5
}
